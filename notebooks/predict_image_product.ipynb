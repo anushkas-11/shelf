{
 "cells": [
  {
   "cell_type": "code",
   "execution_count": 4,
   "metadata": {},
   "outputs": [],
   "source": [
    "import sys\n",
    "import os\n",
    "import glob\n",
    "from PIL import Image\n",
    "from collections import Counter\n",
    "from  sklearn.neighbors import NearestNeighbors\n",
    "from IPython.display import display\n",
    "\n",
    "sys.path.append(os.path.dirname(os.getcwd()))\n"
   ]
  },
  {
   "cell_type": "code",
   "execution_count": 5,
   "metadata": {},
   "outputs": [],
   "source": [
    "from src.img2vec_resnet18 import Img2VecResnet18"
   ]
  },
  {
   "cell_type": "code",
   "execution_count": 6,
   "metadata": {},
   "outputs": [
    {
     "name": "stderr",
     "output_type": "stream",
     "text": [
      "python(35592) MallocStackLogging: can't turn off malloc stack logging because it was not enabled.\n"
     ]
    },
    {
     "name": "stdout",
     "output_type": "stream",
     "text": [
      "/Users/anurithalokesh/Downloads/shelf-product-identifier-main/notebooks\n"
     ]
    }
   ],
   "source": [
    "!pwd"
   ]
  },
  {
   "cell_type": "code",
   "execution_count": 2,
   "metadata": {},
   "outputs": [
    {
     "name": "stdout",
     "output_type": "stream",
     "text": [
      "Collecting torchvision\n",
      "  Downloading torchvision-0.21.0-cp312-cp312-macosx_11_0_arm64.whl.metadata (6.1 kB)\n",
      "Requirement already satisfied: numpy in /opt/anaconda3/lib/python3.12/site-packages (from torchvision) (1.26.4)\n",
      "Collecting torch==2.6.0 (from torchvision)\n",
      "  Downloading torch-2.6.0-cp312-none-macosx_11_0_arm64.whl.metadata (28 kB)\n",
      "Requirement already satisfied: pillow!=8.3.*,>=5.3.0 in /opt/anaconda3/lib/python3.12/site-packages (from torchvision) (10.4.0)\n",
      "Requirement already satisfied: filelock in /opt/anaconda3/lib/python3.12/site-packages (from torch==2.6.0->torchvision) (3.13.1)\n",
      "Requirement already satisfied: typing-extensions>=4.10.0 in /opt/anaconda3/lib/python3.12/site-packages (from torch==2.6.0->torchvision) (4.11.0)\n",
      "Requirement already satisfied: networkx in /opt/anaconda3/lib/python3.12/site-packages (from torch==2.6.0->torchvision) (3.3)\n",
      "Requirement already satisfied: jinja2 in /opt/anaconda3/lib/python3.12/site-packages (from torch==2.6.0->torchvision) (3.1.2)\n",
      "Requirement already satisfied: fsspec in /opt/anaconda3/lib/python3.12/site-packages (from torch==2.6.0->torchvision) (2024.12.0)\n",
      "Requirement already satisfied: setuptools in /opt/anaconda3/lib/python3.12/site-packages (from torch==2.6.0->torchvision) (75.1.0)\n",
      "Requirement already satisfied: sympy==1.13.1 in /opt/anaconda3/lib/python3.12/site-packages (from torch==2.6.0->torchvision) (1.13.1)\n",
      "Requirement already satisfied: mpmath<1.4,>=1.1.0 in /opt/anaconda3/lib/python3.12/site-packages (from sympy==1.13.1->torch==2.6.0->torchvision) (1.3.0)\n",
      "Requirement already satisfied: MarkupSafe>=2.0 in /opt/anaconda3/lib/python3.12/site-packages (from jinja2->torch==2.6.0->torchvision) (2.1.3)\n",
      "Downloading torchvision-0.21.0-cp312-cp312-macosx_11_0_arm64.whl (1.8 MB)\n",
      "\u001b[2K   \u001b[90m━━━━━━━━━━━━━━━━━━━━━━━━━━━━━━━━━━━━━━━━\u001b[0m \u001b[32m1.8/1.8 MB\u001b[0m \u001b[31m10.1 MB/s\u001b[0m eta \u001b[36m0:00:00\u001b[0m\n",
      "\u001b[?25hDownloading torch-2.6.0-cp312-none-macosx_11_0_arm64.whl (66.5 MB)\n",
      "\u001b[2K   \u001b[90m━━━━━━━━━━━━━━━━━━━━━━━━━━━━━━━━━━━━━━━━\u001b[0m \u001b[32m66.5/66.5 MB\u001b[0m \u001b[31m9.7 MB/s\u001b[0m eta \u001b[36m0:00:00\u001b[0m00:01\u001b[0m00:01\u001b[0mm\n",
      "\u001b[?25hInstalling collected packages: torch, torchvision\n",
      "  Attempting uninstall: torch\n",
      "    Found existing installation: torch 2.5.1\n",
      "    Uninstalling torch-2.5.1:\n",
      "      Successfully uninstalled torch-2.5.1\n",
      "Successfully installed torch-2.6.0 torchvision-0.21.0\n"
     ]
    }
   ],
   "source": [
    "!pip install torchvision"
   ]
  },
  {
   "cell_type": "code",
   "execution_count": 7,
   "metadata": {},
   "outputs": [],
   "source": [
    "# Define the paths and parameters\n",
    "MODEL_PATH = '../models/best.pt'\n",
    "DATA_PATH = \"../data\"\n",
    "IMG_DIR = '../data/img/cocacola_bottle.jpeg'\n",
    "N_NEIGHBORS = 5"
   ]
  },
  {
   "attachments": {},
   "cell_type": "markdown",
   "metadata": {},
   "source": [
    "# Get knowledge base images embeddings"
   ]
  },
  {
   "cell_type": "code",
   "execution_count": 8,
   "metadata": {},
   "outputs": [
    {
     "name": "stderr",
     "output_type": "stream",
     "text": [
      "Downloading: \"https://download.pytorch.org/models/resnet18-f37072fd.pth\" to /Users/anurithalokesh/.cache/torch/hub/checkpoints/resnet18-f37072fd.pth\n",
      "python(35712) MallocStackLogging: can't turn off malloc stack logging because it was not enabled.\n",
      "100%|██████████| 44.7M/44.7M [00:10<00:00, 4.41MB/s]\n"
     ]
    }
   ],
   "source": [
    "# Get a list of image file paths using glob\n",
    "list_imgs = glob.glob(f\"{DATA_PATH}/knowledge_base/crops/object/**/*.jpg\")\n",
    "\n",
    "# Create an instance of the Img2VecResnet18 model\n",
    "img2vec = Img2VecResnet18()\n",
    "\n",
    "# Create empty lists to store classes and embeddings\n",
    "classes = []\n",
    "embeddings = []\n",
    "\n",
    "# Iterate over each image file\n",
    "for filename in list_imgs:\n",
    "    # Open the image file\n",
    "    I = Image.open(filename)\n",
    "    \n",
    "    # Get the feature vector representation of the image using img2vec.getVec()\n",
    "    vec = img2vec.getVec(I)\n",
    "    \n",
    "    # Close the image file\n",
    "    I.close()\n",
    "    \n",
    "    # Extract the folder path and name of the image file\n",
    "    folder_path = os.path.dirname(filename)\n",
    "    folder_name = os.path.basename(folder_path)\n",
    "    \n",
    "    # Append the folder name (class) and feature vector to the lists\n",
    "    classes.append(folder_name)\n",
    "    embeddings.append(vec)"
   ]
  },
  {
   "attachments": {},
   "cell_type": "markdown",
   "metadata": {},
   "source": [
    "# Get distances and more similar products"
   ]
  },
  {
   "cell_type": "code",
   "execution_count": 9,
   "metadata": {},
   "outputs": [],
   "source": [
    "# Create a NearestNeighbors model and fit it with the embeddings\n",
    "model_knn = NearestNeighbors(metric='cosine', n_neighbors=N_NEIGHBORS)\n",
    "model_knn.fit(embeddings)\n",
    "\n",
    "# Open the target image file\n",
    "I = Image.open(IMG_DIR)\n",
    "\n",
    "# Get the feature vector representation of the target image\n",
    "vec = img2vec.getVec(I)\n",
    "\n",
    "# Close the target image file\n",
    "I.close()\n",
    "\n",
    "# Find the nearest neighbors and distances to the target image\n",
    "dists, idx = model_knn.kneighbors([vec])"
   ]
  },
  {
   "cell_type": "code",
   "execution_count": 10,
   "metadata": {},
   "outputs": [
    {
     "name": "stdout",
     "output_type": "stream",
     "text": [
      "The image has been identified as a cocacola_pet with a 100% probability\n"
     ]
    },
    {
     "data": {
      "image/jpeg": "[encoded data removed]",
      "image/png": "[encoded data removed]",
      "text/plain": [
       "<PIL.JpegImagePlugin.JpegImageFile image mode=RGB size=51x172>"
      ]
     },
     "metadata": {},
     "output_type": "display_data"
    }
   ],
   "source": [
    "# Get the class labels of the nearest neighbors\n",
    "brands_nearest_neighbors = [classes[i] for i in list(idx[0])]\n",
    "\n",
    "# Count the occurrences of each class label\n",
    "count = Counter(brands_nearest_neighbors)\n",
    "\n",
    "# Get the most common class and its count\n",
    "product, n = sorted(count.items(), key=lambda item: item[1])[-1]\n",
    "\n",
    "# Print the identified product and the probability\n",
    "print(f\"The image has been identified as a {product} with a {n/N_NEIGHBORS:.0%} probability\")\n",
    "\n",
    "# Open the target image again\n",
    "I = Image.open(IMG_DIR)\n",
    "\n",
    "# Display the target image\n",
    "display(I)\n",
    "\n",
    "# Close the target image file\n",
    "I.close()"
   ]
  }
 ],
 "metadata": {
  "kernelspec": {
   "display_name": "base",
   "language": "python",
   "name": "python3"
  },
  "language_info": {
   "codemirror_mode": {
    "name": "ipython",
    "version": 3
   },
   "file_extension": ".py",
   "mimetype": "text/x-python",
   "name": "python",
   "nbconvert_exporter": "python",
   "pygments_lexer": "ipython3",
   "version": "3.12.7"
  }
 },
 "nbformat": 4,
 "nbformat_minor": 2
}
